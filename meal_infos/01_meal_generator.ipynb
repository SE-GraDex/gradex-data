{
 "cells": [
  {
   "cell_type": "code",
   "execution_count": 1,
   "id": "8b0f1c8b-5770-4ebc-8ce0-ededd00730a9",
   "metadata": {
    "execution": {
     "iopub.execute_input": "2024-11-24T16:18:35.661006Z",
     "iopub.status.busy": "2024-11-24T16:18:35.660265Z",
     "iopub.status.idle": "2024-11-24T16:18:36.393475Z",
     "shell.execute_reply": "2024-11-24T16:18:36.393118Z",
     "shell.execute_reply.started": "2024-11-24T16:18:35.660956Z"
    }
   },
   "outputs": [],
   "source": [
    "import os \n",
    "import pickle\n",
    "import ast\n",
    "\n",
    "from tqdm.notebook import tqdm\n",
    "\n",
    "from langchain_core.prompts import ChatPromptTemplate\n",
    "from langchain.chains import LLMChain\n",
    "from langchain_ollama.llms import OllamaLLM"
   ]
  },
  {
   "cell_type": "code",
   "execution_count": 2,
   "id": "0d4126de-37a4-4a1c-8590-882777e975e4",
   "metadata": {
    "execution": {
     "iopub.execute_input": "2024-11-24T16:18:36.546919Z",
     "iopub.status.busy": "2024-11-24T16:18:36.546488Z",
     "iopub.status.idle": "2024-11-24T16:18:58.936733Z",
     "shell.execute_reply": "2024-11-24T16:18:58.935692Z",
     "shell.execute_reply.started": "2024-11-24T16:18:36.546889Z"
    }
   },
   "outputs": [
    {
     "data": {
      "text/plain": [
       "\"Kai Jeow, a quintessential Thai dish, is a delicate and flavorful omelette that showcases the country's culinary prowess. This savory delight is made with whisked eggs, mixed with various ingredients such as chopped vegetables, herbs, and sometimes meat or seafood. The eggs are then cooked into a thin, almost translucent pancake-like texture, which is both fragile and tender to the bite.The aroma of Kai Jeow wafts invitingly, teasing the senses with its subtle blend of spices and herbs. Upon taking a bite, the flavors of the dish unfold, revealing a harmonious balance of savory and slightly sweet notes. The texture is equally impressive, with the eggs providing a silky smoothness that complements the crunch of any added vegetables.A staple in Thai cuisine, Kai Jeow can be served at any time of day, making it a versatile option for breakfast, lunch, or dinner. Whether enjoyed on its own or paired with steamed rice and other side dishes, this delectable omelette is sure to satisfy even the most discerning palate.In many Thai households, Kai Jeow is a beloved comfort food that evokes memories of childhood and family traditions. Its simplicity belies its complexity, making it a dish that can be enjoyed by people from all walks of life. Whether you're a seasoned foodie or just discovering the joys of Thai cuisine, Kai Jeow is an absolute must-try experience.\""
      ]
     },
     "execution_count": 2,
     "metadata": {},
     "output_type": "execute_result"
    }
   ],
   "source": [
    "def generate_desceiption(menu):\n",
    "    template = \"\"\"\n",
    "    Task: Write an food description for {menu_name}.\n",
    "    \n",
    "    Style: semi-formal \n",
    "    \n",
    "    Response:\n",
    "    - Length: 8-12 sentences.\n",
    "    - Avoid special characters (e.g., ** or \\n).\n",
    "    \"\"\"\n",
    "    prompt = ChatPromptTemplate.from_template(template)\n",
    "    model = OllamaLLM(model=\"llama3.1\")\n",
    "    chain = prompt | model\n",
    "\n",
    "    try:\n",
    "        # Generate the description and clean up unwanted line breaks\n",
    "        result = chain.invoke({\"menu_name\": menu}).strip().replace(\"\\n\", \"\")\n",
    "        return result\n",
    "    except Exception as e:\n",
    "        # Handle exceptions gracefully\n",
    "        return f\"Error generating description: {str(e)}\"\n",
    "\n",
    "generate_desceiption(\"Kai Jeow (Thai Omelette)\")"
   ]
  },
  {
   "cell_type": "code",
   "execution_count": null,
   "id": "3e593c8d-ee4d-439a-8879-9ede07a61747",
   "metadata": {},
   "outputs": [],
   "source": []
  }
 ],
 "metadata": {
  "kernelspec": {
   "display_name": "Python 3 (ipykernel)",
   "language": "python",
   "name": "python3"
  },
  "language_info": {
   "codemirror_mode": {
    "name": "ipython",
    "version": 3
   },
   "file_extension": ".py",
   "mimetype": "text/x-python",
   "name": "python",
   "nbconvert_exporter": "python",
   "pygments_lexer": "ipython3",
   "version": "3.9.12"
  }
 },
 "nbformat": 4,
 "nbformat_minor": 5
}
